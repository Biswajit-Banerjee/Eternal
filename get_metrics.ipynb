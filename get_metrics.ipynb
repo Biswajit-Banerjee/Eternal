{
 "cells": [
  {
   "cell_type": "code",
   "execution_count": 1,
   "metadata": {},
   "outputs": [],
   "source": [
    "import pandas as pd \n",
    "import torch\n",
    "import torch.nn as nn\n",
    "import torch.optim as optim\n",
    "import numpy as np\n",
    "from torch.utils.data import DataLoader, random_split\n",
    "from tqdm.auto import tqdm\n",
    "from sklearn.metrics import precision_recall_fscore_support\n",
    "from src.utils import inference, visualize_predictions\n",
    "from src.data import RNADataset, RNADataset_old\n",
    "from src.checkpoint import load_checkpoint\n",
    "from src.pipeline import predict_structure\n",
    "device = torch.device('cuda' if torch.cuda.is_available() else 'cpu')\n",
    "\n",
    "import warnings\n",
    "warnings.filterwarnings('ignore', category=UserWarning)\n",
    "warnings.filterwarnings('ignore', category=RuntimeWarning)"
   ]
  },
  {
   "cell_type": "code",
   "execution_count": 2,
   "metadata": {},
   "outputs": [
    {
     "name": "stderr",
     "output_type": "stream",
     "text": [
      "/home/sumon/workspace/git_repos/Eternal/src/checkpoint.py:44: FutureWarning: You are using `torch.load` with `weights_only=False` (the current default value), which uses the default pickle module implicitly. It is possible to construct malicious pickle data which will execute arbitrary code during unpickling (See https://github.com/pytorch/pytorch/blob/main/SECURITY.md#untrusted-models for more details). In a future release, the default value for `weights_only` will be flipped to `True`. This limits the functions that could be executed during unpickling. Arbitrary objects will no longer be allowed to be loaded via this mode unless they are explicitly allowlisted by the user via `torch.serialization.add_safe_globals`. We recommend you start setting `weights_only=True` for any use case where you don't have full control of the loaded file. Please open an issue on GitHub for any issues related to this experimental feature.\n",
      "  checkpoint = torch.load(path, map_location=device)\n"
     ]
    },
    {
     "name": "stdout",
     "output_type": "stream",
     "text": [
      "Loaded checkpoint from /home/sumon/workspace/git_repos/Eternal/models/ce_ep6/best.pt\n",
      "Epoch: 7\n"
     ]
    }
   ],
   "source": [
    "relu_model = \"/home/sumon/workspace/git_repos/Eternal/models/ce_ep6/best.pt\"\n",
    "gelu_model = 'checkpoints/checkpoint.pt'\n",
    "model, optimizer, epoch = load_checkpoint(relu_model)\n",
    "print(f\"Epoch: {epoch+1}\")"
   ]
  },
  {
   "cell_type": "code",
   "execution_count": null,
   "metadata": {},
   "outputs": [],
   "source": []
  },
  {
   "cell_type": "code",
   "execution_count": 3,
   "metadata": {},
   "outputs": [],
   "source": [
    "df = pd.read_parquet(\"data/test.parquet\")\n",
    "test_df = df.groupby(\"family\").agg({\"sequence\": list, \"secondary_structure\":list}).reset_index()"
   ]
  },
  {
   "cell_type": "code",
   "execution_count": 4,
   "metadata": {},
   "outputs": [
    {
     "data": {
      "text/html": [
       "<div>\n",
       "<style scoped>\n",
       "    .dataframe tbody tr th:only-of-type {\n",
       "        vertical-align: middle;\n",
       "    }\n",
       "\n",
       "    .dataframe tbody tr th {\n",
       "        vertical-align: top;\n",
       "    }\n",
       "\n",
       "    .dataframe thead th {\n",
       "        text-align: right;\n",
       "    }\n",
       "</style>\n",
       "<table border=\"1\" class=\"dataframe\">\n",
       "  <thead>\n",
       "    <tr style=\"text-align: right;\">\n",
       "      <th></th>\n",
       "      <th>family</th>\n",
       "      <th>sequence</th>\n",
       "      <th>secondary_structure</th>\n",
       "    </tr>\n",
       "  </thead>\n",
       "  <tbody>\n",
       "    <tr>\n",
       "      <th>0</th>\n",
       "      <td>16S_rRNA</td>\n",
       "      <td>[AUUCUGGUUGAUCCUGCCAGAGGCCGCUGCUAUCCGGCUGGGACU...</td>\n",
       "      <td>[...(((((...(((.))))).((((((((((.((((((((((......</td>\n",
       "    </tr>\n",
       "    <tr>\n",
       "      <th>1</th>\n",
       "      <td>23S_rRNA</td>\n",
       "      <td>[GGUUAAGUUAGAAAGGGCGCACGGUGGAUGCCUUGGCACUAGGAG...</td>\n",
       "      <td>[((((((((......((((((((((.....(((..(((((((((((...</td>\n",
       "    </tr>\n",
       "    <tr>\n",
       "      <th>2</th>\n",
       "      <td>5S_rRNA</td>\n",
       "      <td>[GGAUACGGCCAUACUGCGCAGAAAGCACCGCUUCCCAUCCGAACA...</td>\n",
       "      <td>[(((((((((....((((((((.....((((((............)...</td>\n",
       "    </tr>\n",
       "    <tr>\n",
       "      <th>3</th>\n",
       "      <td>RNaseP</td>\n",
       "      <td>[GAGGAAAGUCCCGCCUCCAGAUCAAGGGAAGUCCCGCGAGGGACA...</td>\n",
       "      <td>[.....(((.(((((((((.(((((.((((((((((....)))))(...</td>\n",
       "    </tr>\n",
       "    <tr>\n",
       "      <th>4</th>\n",
       "      <td>SRP</td>\n",
       "      <td>[GGGGGCCCUGGUCCUCCCGCAACACUAGUUCGUGAACCUGGUCAG...</td>\n",
       "      <td>[(((((((((((((.((((((.((((..((((((.....((((......</td>\n",
       "    </tr>\n",
       "    <tr>\n",
       "      <th>5</th>\n",
       "      <td>group_II_intron</td>\n",
       "      <td>[AUAAAUCUAAGUGUAGUGCUUGGUGUAUUGAUUUUUUUUGGAAAG...</td>\n",
       "      <td>[................................................</td>\n",
       "    </tr>\n",
       "    <tr>\n",
       "      <th>6</th>\n",
       "      <td>group_I_intron</td>\n",
       "      <td>[CUCAACAUGCAAGAUUAACUAAGUGCUUAGCAGUUAGUUUUGCUA...</td>\n",
       "      <td>[(((.....((((((((((((...........)))))))))))).....</td>\n",
       "    </tr>\n",
       "    <tr>\n",
       "      <th>7</th>\n",
       "      <td>tRNA</td>\n",
       "      <td>[GGGCUCGUAGAUCAGCGGUAGAUCGCUUCCUUCGCAAGGAAGAGG...</td>\n",
       "      <td>[(((((((..((((.......)))).(((((.......)))))......</td>\n",
       "    </tr>\n",
       "    <tr>\n",
       "      <th>8</th>\n",
       "      <td>telomerase</td>\n",
       "      <td>[ACCUAACCCUGAUUUUCAUUAGCUGUGGGUUCUGGUCUUUUGUUC...</td>\n",
       "      <td>[.....................(((((((((......((((........</td>\n",
       "    </tr>\n",
       "    <tr>\n",
       "      <th>9</th>\n",
       "      <td>tmRNA</td>\n",
       "      <td>[GGGGGCGUCACGGUUUCGACGGGAUUGACUGCGGCAAAGAGGCAU...</td>\n",
       "      <td>[(((((((............(((((((...(((((.((((((((((...</td>\n",
       "    </tr>\n",
       "  </tbody>\n",
       "</table>\n",
       "</div>"
      ],
      "text/plain": [
       "            family                                           sequence  \\\n",
       "0         16S_rRNA  [AUUCUGGUUGAUCCUGCCAGAGGCCGCUGCUAUCCGGCUGGGACU...   \n",
       "1         23S_rRNA  [GGUUAAGUUAGAAAGGGCGCACGGUGGAUGCCUUGGCACUAGGAG...   \n",
       "2          5S_rRNA  [GGAUACGGCCAUACUGCGCAGAAAGCACCGCUUCCCAUCCGAACA...   \n",
       "3           RNaseP  [GAGGAAAGUCCCGCCUCCAGAUCAAGGGAAGUCCCGCGAGGGACA...   \n",
       "4              SRP  [GGGGGCCCUGGUCCUCCCGCAACACUAGUUCGUGAACCUGGUCAG...   \n",
       "5  group_II_intron  [AUAAAUCUAAGUGUAGUGCUUGGUGUAUUGAUUUUUUUUGGAAAG...   \n",
       "6   group_I_intron  [CUCAACAUGCAAGAUUAACUAAGUGCUUAGCAGUUAGUUUUGCUA...   \n",
       "7             tRNA  [GGGCUCGUAGAUCAGCGGUAGAUCGCUUCCUUCGCAAGGAAGAGG...   \n",
       "8       telomerase  [ACCUAACCCUGAUUUUCAUUAGCUGUGGGUUCUGGUCUUUUGUUC...   \n",
       "9            tmRNA  [GGGGGCGUCACGGUUUCGACGGGAUUGACUGCGGCAAAGAGGCAU...   \n",
       "\n",
       "                                 secondary_structure  \n",
       "0  [...(((((...(((.))))).((((((((((.((((((((((......  \n",
       "1  [((((((((......((((((((((.....(((..(((((((((((...  \n",
       "2  [(((((((((....((((((((.....((((((............)...  \n",
       "3  [.....(((.(((((((((.(((((.((((((((((....)))))(...  \n",
       "4  [(((((((((((((.((((((.((((..((((((.....((((......  \n",
       "5  [................................................  \n",
       "6  [(((.....((((((((((((...........)))))))))))).....  \n",
       "7  [(((((((..((((.......)))).(((((.......)))))......  \n",
       "8  [.....................(((((((((......((((........  \n",
       "9  [(((((((............(((((((...(((((.((((((((((...  "
      ]
     },
     "execution_count": 4,
     "metadata": {},
     "output_type": "execute_result"
    }
   ],
   "source": [
    "test_df"
   ]
  },
  {
   "cell_type": "code",
   "execution_count": 5,
   "metadata": {},
   "outputs": [],
   "source": [
    "test_loaders = {}\n",
    "\n",
    "for _, row in test_df.iterrows():\n",
    "    dataset = RNADataset_old(row.sequence, row.secondary_structure)\n",
    "    loader = DataLoader(\n",
    "        dataset,\n",
    "        batch_size=28,\n",
    "        shuffle=False,\n",
    "    )\n",
    "    test_loaders[row.family] = loader"
   ]
  },
  {
   "cell_type": "code",
   "execution_count": 6,
   "metadata": {},
   "outputs": [],
   "source": [
    "def structure_predictions(model, test_loaders, structure_decoder):\n",
    "    results = {}\n",
    "    \n",
    "    for family, loader in tqdm(test_loaders.items(), desc=\"Processing families\"):\n",
    "        true_structs = []\n",
    "        pred_structs = []\n",
    "        \n",
    "        for batch in tqdm(loader, desc=f\"Family: {family}\", leave=False):\n",
    "            seq_tensor = batch[\"sequence\"].to(device)\n",
    "            struct_tensor = batch[\"structure\"].to(device)\n",
    "            lengths = batch[\"length\"]\n",
    "            true_struct = batch[\"raw_structure\"]\n",
    "            \n",
    "            with torch.no_grad(), warnings.catch_warnings():\n",
    "                warnings.simplefilter(\"ignore\")\n",
    "                logits = model(seq_tensor)\n",
    "                preds = torch.argmax(logits, dim=-1)\n",
    "            \n",
    "            pred_struct = []\n",
    "            for idx, pred in enumerate(preds):\n",
    "                length = lengths[idx]\n",
    "                t = \"\".join([structure_decoder[i.item()] for i in pred[:length]])\n",
    "                pred_struct.append(t)\n",
    "            \n",
    "            true_structs.extend(list(true_struct))\n",
    "            pred_structs.extend(list(pred_struct))\n",
    "\n",
    "        results[family] = {\n",
    "            'true_structs': true_structs,\n",
    "            'pred_structs': pred_structs,\n",
    "        }\n",
    "    \n",
    "    return results\n",
    "\n",
    "def calculate_structure_accuracy(df):\n",
    "    \"\"\"\n",
    "    Calculate accuracy between secondary_structure and predicted columns for each family.\n",
    "    \n",
    "    Parameters:\n",
    "    df (pandas.DataFrame): DataFrame containing 'secondary_structure', 'predicted', and 'family' columns\n",
    "    \n",
    "    Returns:\n",
    "    pandas.DataFrame: Average accuracy per family\n",
    "    \"\"\"\n",
    "    def sequence_accuracy(true_seq, pred_seq):\n",
    "        \"\"\"Calculate accuracy between two sequences\"\"\"\n",
    "        if len(true_seq) != len(pred_seq):\n",
    "            return 0.0\n",
    "        matches = sum(1 for t, p in zip(true_seq, pred_seq) if t == p)\n",
    "        return matches / len(true_seq)\n",
    "    \n",
    "    # Initialize results dictionary\n",
    "    results = {}\n",
    "    \n",
    "    # Calculate accuracy for each family\n",
    "    for family in df['family'].unique():\n",
    "        family_data = df[df['family'] == family]\n",
    "        \n",
    "        # Calculate accuracy for each sequence in the family\n",
    "        accuracies = []\n",
    "        for _, row in family_data.iterrows():\n",
    "            acc = sequence_accuracy(row['secondary_structure'], row['predicted_structure'])\n",
    "            accuracies.append(acc)\n",
    "        \n",
    "        # Store results\n",
    "        results[family] = {\n",
    "            'average_accuracy': np.mean(accuracies),\n",
    "            'std_accuracy': np.std(accuracies),\n",
    "            'sample_count': len(accuracies)\n",
    "        }\n",
    "    \n",
    "    # Convert to DataFrame\n",
    "    metrics_df = pd.DataFrame.from_dict(results, orient='index')\n",
    "    \n",
    "    # Calculate overall metrics\n",
    "    all_accuracies = []\n",
    "    for _, row in df.iterrows():\n",
    "        acc = sequence_accuracy(row['secondary_structure'], row['predicted_structure'])\n",
    "        all_accuracies.append(acc)\n",
    "    \n",
    "    metrics_df.loc['Overall'] = {\n",
    "        'average_accuracy': np.mean(all_accuracies),\n",
    "        'std_accuracy': np.std(all_accuracies),\n",
    "        'sample_count': len(all_accuracies)\n",
    "    }\n",
    "    \n",
    "    return metrics_df.round(4)"
   ]
  },
  {
   "cell_type": "code",
   "execution_count": 7,
   "metadata": {},
   "outputs": [],
   "source": [
    "idx_to_struct = dataset.idx_to_struct\n",
    "\n",
    "idx_to_struct[7] = \"(\"\n",
    "idx_to_struct[8] = \")\""
   ]
  },
  {
   "cell_type": "code",
   "execution_count": 8,
   "metadata": {},
   "outputs": [
    {
     "data": {
      "application/vnd.jupyter.widget-view+json": {
       "model_id": "b4ece289c33049629e8d29ff5c79c33f",
       "version_major": 2,
       "version_minor": 0
      },
      "text/plain": [
       "Processing families:   0%|          | 0/10 [00:00<?, ?it/s]"
      ]
     },
     "metadata": {},
     "output_type": "display_data"
    },
    {
     "data": {
      "application/vnd.jupyter.widget-view+json": {
       "model_id": "dd74023da24c465bba88fc4ba4e4dd05",
       "version_major": 2,
       "version_minor": 0
      },
      "text/plain": [
       "Family: 16S_rRNA:   0%|          | 0/4 [00:00<?, ?it/s]"
      ]
     },
     "metadata": {},
     "output_type": "display_data"
    },
    {
     "data": {
      "application/vnd.jupyter.widget-view+json": {
       "model_id": "54a4294369394b89bbad2b575f3f4bf8",
       "version_major": 2,
       "version_minor": 0
      },
      "text/plain": [
       "Family: 23S_rRNA:   0%|          | 0/2 [00:00<?, ?it/s]"
      ]
     },
     "metadata": {},
     "output_type": "display_data"
    },
    {
     "data": {
      "application/vnd.jupyter.widget-view+json": {
       "model_id": "75dac94034cb4c8fb80ec1dc6ff439c1",
       "version_major": 2,
       "version_minor": 0
      },
      "text/plain": [
       "Family: 5S_rRNA:   0%|          | 0/46 [00:00<?, ?it/s]"
      ]
     },
     "metadata": {},
     "output_type": "display_data"
    },
    {
     "data": {
      "application/vnd.jupyter.widget-view+json": {
       "model_id": "41f2a200f1bc4beabc615dd9c7203fbd",
       "version_major": 2,
       "version_minor": 0
      },
      "text/plain": [
       "Family: RNaseP:   0%|          | 0/17 [00:00<?, ?it/s]"
      ]
     },
     "metadata": {},
     "output_type": "display_data"
    },
    {
     "data": {
      "application/vnd.jupyter.widget-view+json": {
       "model_id": "ffdd95e60334485cbc24a0f85f6ba193",
       "version_major": 2,
       "version_minor": 0
      },
      "text/plain": [
       "Family: SRP:   0%|          | 0/34 [00:00<?, ?it/s]"
      ]
     },
     "metadata": {},
     "output_type": "display_data"
    },
    {
     "data": {
      "application/vnd.jupyter.widget-view+json": {
       "model_id": "195489f675ac43da89372781fa3a0d7b",
       "version_major": 2,
       "version_minor": 0
      },
      "text/plain": [
       "Family: group_II_intron:   0%|          | 0/1 [00:00<?, ?it/s]"
      ]
     },
     "metadata": {},
     "output_type": "display_data"
    },
    {
     "data": {
      "application/vnd.jupyter.widget-view+json": {
       "model_id": "f930a57f07294e25853ca947470fdbbc",
       "version_major": 2,
       "version_minor": 0
      },
      "text/plain": [
       "Family: group_I_intron:   0%|          | 0/4 [00:00<?, ?it/s]"
      ]
     },
     "metadata": {},
     "output_type": "display_data"
    },
    {
     "data": {
      "application/vnd.jupyter.widget-view+json": {
       "model_id": "4e87df82b09b42eabacb2817bfcf080b",
       "version_major": 2,
       "version_minor": 0
      },
      "text/plain": [
       "Family: tRNA:   0%|          | 0/20 [00:00<?, ?it/s]"
      ]
     },
     "metadata": {},
     "output_type": "display_data"
    },
    {
     "data": {
      "application/vnd.jupyter.widget-view+json": {
       "model_id": "3429e04951314f5bbc42c1054454c695",
       "version_major": 2,
       "version_minor": 0
      },
      "text/plain": [
       "Family: telomerase:   0%|          | 0/2 [00:00<?, ?it/s]"
      ]
     },
     "metadata": {},
     "output_type": "display_data"
    },
    {
     "data": {
      "application/vnd.jupyter.widget-view+json": {
       "model_id": "18d8510193cb4da7a55a08eb5647666e",
       "version_major": 2,
       "version_minor": 0
      },
      "text/plain": [
       "Family: tmRNA:   0%|          | 0/17 [00:00<?, ?it/s]"
      ]
     },
     "metadata": {},
     "output_type": "display_data"
    }
   ],
   "source": [
    "results = structure_predictions(model, test_loaders, idx_to_struct)"
   ]
  },
  {
   "cell_type": "code",
   "execution_count": 9,
   "metadata": {},
   "outputs": [
    {
     "data": {
      "text/html": [
       "<div>\n",
       "<style scoped>\n",
       "    .dataframe tbody tr th:only-of-type {\n",
       "        vertical-align: middle;\n",
       "    }\n",
       "\n",
       "    .dataframe tbody tr th {\n",
       "        vertical-align: top;\n",
       "    }\n",
       "\n",
       "    .dataframe thead th {\n",
       "        text-align: right;\n",
       "    }\n",
       "</style>\n",
       "<table border=\"1\" class=\"dataframe\">\n",
       "  <thead>\n",
       "    <tr style=\"text-align: right;\">\n",
       "      <th></th>\n",
       "      <th>family</th>\n",
       "      <th>secondary_structure</th>\n",
       "      <th>predicted_structure</th>\n",
       "    </tr>\n",
       "  </thead>\n",
       "  <tbody>\n",
       "    <tr>\n",
       "      <th>0</th>\n",
       "      <td>16S_rRNA</td>\n",
       "      <td>...(((((...(((.))))).((((((((((.((((((((((.......</td>\n",
       "      <td>.(.((((..(.())((().(.)()((((()(.((((((((((.((....</td>\n",
       "    </tr>\n",
       "    <tr>\n",
       "      <th>1</th>\n",
       "      <td>16S_rRNA</td>\n",
       "      <td>...(((((.......))))).((((((((((.((((((((((.......</td>\n",
       "      <td>.....(..........(..(.(((..(.(((....(((.(((.(.....</td>\n",
       "    </tr>\n",
       "    <tr>\n",
       "      <th>2</th>\n",
       "      <td>16S_rRNA</td>\n",
       "      <td>.......(((((...(.((((.(.(((.(((((((.((((((((((...</td>\n",
       "      <td>......(..)......((......(((..((((((..(.((..(((...</td>\n",
       "    </tr>\n",
       "    <tr>\n",
       "      <th>3</th>\n",
       "      <td>16S_rRNA</td>\n",
       "      <td>.......(((((.(((((((..((..((((((.((((((((((......</td>\n",
       "      <td>............((.(.......(..(.(.(...(..(((((.(.....</td>\n",
       "    </tr>\n",
       "    <tr>\n",
       "      <th>4</th>\n",
       "      <td>16S_rRNA</td>\n",
       "      <td>.(.(..((...((((.(((..(((((((..((((..((((((((((...</td>\n",
       "      <td>....(..(....(.(..(((.(((.(.(.((((.(...((((((((...</td>\n",
       "    </tr>\n",
       "    <tr>\n",
       "      <th>...</th>\n",
       "      <td>...</td>\n",
       "      <td>...</td>\n",
       "      <td>...</td>\n",
       "    </tr>\n",
       "    <tr>\n",
       "      <th>3970</th>\n",
       "      <td>tmRNA</td>\n",
       "      <td>(((((((............((((((((.(....((((..(((.(((...</td>\n",
       "      <td>.(((.((..(.....(.....((.(((.((....(.(..(((((((...</td>\n",
       "    </tr>\n",
       "    <tr>\n",
       "      <th>3971</th>\n",
       "      <td>tmRNA</td>\n",
       "      <td>(((((((............((((((((.....((((.((((..(((...</td>\n",
       "      <td>......(..(..(..(.(..(....(.((.(..(((.(.((.((.(...</td>\n",
       "    </tr>\n",
       "    <tr>\n",
       "      <th>3972</th>\n",
       "      <td>tmRNA</td>\n",
       "      <td>(((((((............((((((((.....((((.((((..(((...</td>\n",
       "      <td>...(..((.(..(....(....(.((((((...((((((((.((.(...</td>\n",
       "    </tr>\n",
       "    <tr>\n",
       "      <th>3973</th>\n",
       "      <td>tmRNA</td>\n",
       "      <td>(((((((............((((((((....(((((.((((..(((...</td>\n",
       "      <td>.(....(...(.....((..(.((((((......((((((((((.(...</td>\n",
       "    </tr>\n",
       "    <tr>\n",
       "      <th>3974</th>\n",
       "      <td>tmRNA</td>\n",
       "      <td>(((((((............((((..(.((...(..(.((...((((...</td>\n",
       "      <td>.(.((.(......(..((...(..((.((((.(.(.(..((((.((...</td>\n",
       "    </tr>\n",
       "  </tbody>\n",
       "</table>\n",
       "<p>3975 rows × 3 columns</p>\n",
       "</div>"
      ],
      "text/plain": [
       "        family                                secondary_structure  \\\n",
       "0     16S_rRNA  ...(((((...(((.))))).((((((((((.((((((((((.......   \n",
       "1     16S_rRNA  ...(((((.......))))).((((((((((.((((((((((.......   \n",
       "2     16S_rRNA  .......(((((...(.((((.(.(((.(((((((.((((((((((...   \n",
       "3     16S_rRNA  .......(((((.(((((((..((..((((((.((((((((((......   \n",
       "4     16S_rRNA  .(.(..((...((((.(((..(((((((..((((..((((((((((...   \n",
       "...        ...                                                ...   \n",
       "3970     tmRNA  (((((((............((((((((.(....((((..(((.(((...   \n",
       "3971     tmRNA  (((((((............((((((((.....((((.((((..(((...   \n",
       "3972     tmRNA  (((((((............((((((((.....((((.((((..(((...   \n",
       "3973     tmRNA  (((((((............((((((((....(((((.((((..(((...   \n",
       "3974     tmRNA  (((((((............((((..(.((...(..(.((...((((...   \n",
       "\n",
       "                                    predicted_structure  \n",
       "0     .(.((((..(.())((().(.)()((((()(.((((((((((.((....  \n",
       "1     .....(..........(..(.(((..(.(((....(((.(((.(.....  \n",
       "2     ......(..)......((......(((..((((((..(.((..(((...  \n",
       "3     ............((.(.......(..(.(.(...(..(((((.(.....  \n",
       "4     ....(..(....(.(..(((.(((.(.(.((((.(...((((((((...  \n",
       "...                                                 ...  \n",
       "3970  .(((.((..(.....(.....((.(((.((....(.(..(((((((...  \n",
       "3971  ......(..(..(..(.(..(....(.((.(..(((.(.((.((.(...  \n",
       "3972  ...(..((.(..(....(....(.((((((...((((((((.((.(...  \n",
       "3973  .(....(...(.....((..(.((((((......((((((((((.(...  \n",
       "3974  .(.((.(......(..((...(..((.((((.(.(.(..((((.((...  \n",
       "\n",
       "[3975 rows x 3 columns]"
      ]
     },
     "execution_count": 9,
     "metadata": {},
     "output_type": "execute_result"
    }
   ],
   "source": [
    "predicted_df = pd.DataFrame(results).T\n",
    "predicted_df = predicted_df.explode([\"true_structs\", \"pred_structs\"]).reset_index()\n",
    "predicted_df.columns = [\"family\", \"secondary_structure\", \"predicted_structure\"]\n",
    "predicted_df"
   ]
  },
  {
   "cell_type": "code",
   "execution_count": 10,
   "metadata": {},
   "outputs": [
    {
     "data": {
      "text/html": [
       "<div>\n",
       "<style scoped>\n",
       "    .dataframe tbody tr th:only-of-type {\n",
       "        vertical-align: middle;\n",
       "    }\n",
       "\n",
       "    .dataframe tbody tr th {\n",
       "        vertical-align: top;\n",
       "    }\n",
       "\n",
       "    .dataframe thead th {\n",
       "        text-align: right;\n",
       "    }\n",
       "</style>\n",
       "<table border=\"1\" class=\"dataframe\">\n",
       "  <thead>\n",
       "    <tr style=\"text-align: right;\">\n",
       "      <th></th>\n",
       "      <th>average_accuracy</th>\n",
       "      <th>std_accuracy</th>\n",
       "      <th>sample_count</th>\n",
       "    </tr>\n",
       "  </thead>\n",
       "  <tbody>\n",
       "    <tr>\n",
       "      <th>16S_rRNA</th>\n",
       "      <td>0.4782</td>\n",
       "      <td>0.0497</td>\n",
       "      <td>110</td>\n",
       "    </tr>\n",
       "    <tr>\n",
       "      <th>23S_rRNA</th>\n",
       "      <td>0.4649</td>\n",
       "      <td>0.0250</td>\n",
       "      <td>35</td>\n",
       "    </tr>\n",
       "    <tr>\n",
       "      <th>5S_rRNA</th>\n",
       "      <td>0.5068</td>\n",
       "      <td>0.0514</td>\n",
       "      <td>1283</td>\n",
       "    </tr>\n",
       "    <tr>\n",
       "      <th>RNaseP</th>\n",
       "      <td>0.4639</td>\n",
       "      <td>0.0329</td>\n",
       "      <td>454</td>\n",
       "    </tr>\n",
       "    <tr>\n",
       "      <th>SRP</th>\n",
       "      <td>0.4935</td>\n",
       "      <td>0.0617</td>\n",
       "      <td>928</td>\n",
       "    </tr>\n",
       "    <tr>\n",
       "      <th>group_II_intron</th>\n",
       "      <td>0.4945</td>\n",
       "      <td>0.0186</td>\n",
       "      <td>11</td>\n",
       "    </tr>\n",
       "    <tr>\n",
       "      <th>group_I_intron</th>\n",
       "      <td>0.4702</td>\n",
       "      <td>0.0592</td>\n",
       "      <td>98</td>\n",
       "    </tr>\n",
       "    <tr>\n",
       "      <th>tRNA</th>\n",
       "      <td>0.7176</td>\n",
       "      <td>0.1313</td>\n",
       "      <td>557</td>\n",
       "    </tr>\n",
       "    <tr>\n",
       "      <th>telomerase</th>\n",
       "      <td>0.4422</td>\n",
       "      <td>0.0292</td>\n",
       "      <td>37</td>\n",
       "    </tr>\n",
       "    <tr>\n",
       "      <th>tmRNA</th>\n",
       "      <td>0.4861</td>\n",
       "      <td>0.0378</td>\n",
       "      <td>462</td>\n",
       "    </tr>\n",
       "    <tr>\n",
       "      <th>Overall</th>\n",
       "      <td>0.5232</td>\n",
       "      <td>0.1048</td>\n",
       "      <td>3975</td>\n",
       "    </tr>\n",
       "  </tbody>\n",
       "</table>\n",
       "</div>"
      ],
      "text/plain": [
       "                 average_accuracy  std_accuracy  sample_count\n",
       "16S_rRNA                   0.4782        0.0497           110\n",
       "23S_rRNA                   0.4649        0.0250            35\n",
       "5S_rRNA                    0.5068        0.0514          1283\n",
       "RNaseP                     0.4639        0.0329           454\n",
       "SRP                        0.4935        0.0617           928\n",
       "group_II_intron            0.4945        0.0186            11\n",
       "group_I_intron             0.4702        0.0592            98\n",
       "tRNA                       0.7176        0.1313           557\n",
       "telomerase                 0.4422        0.0292            37\n",
       "tmRNA                      0.4861        0.0378           462\n",
       "Overall                    0.5232        0.1048          3975"
      ]
     },
     "execution_count": 10,
     "metadata": {},
     "output_type": "execute_result"
    }
   ],
   "source": [
    "calculate_structure_accuracy(predicted_df)"
   ]
  },
  {
   "cell_type": "code",
   "execution_count": null,
   "metadata": {},
   "outputs": [],
   "source": []
  },
  {
   "cell_type": "code",
   "execution_count": null,
   "metadata": {},
   "outputs": [],
   "source": []
  }
 ],
 "metadata": {
  "kernelspec": {
   "display_name": "base",
   "language": "python",
   "name": "python3"
  },
  "language_info": {
   "codemirror_mode": {
    "name": "ipython",
    "version": 3
   },
   "file_extension": ".py",
   "mimetype": "text/x-python",
   "name": "python",
   "nbconvert_exporter": "python",
   "pygments_lexer": "ipython3",
   "version": "3.10.15"
  }
 },
 "nbformat": 4,
 "nbformat_minor": 2
}
