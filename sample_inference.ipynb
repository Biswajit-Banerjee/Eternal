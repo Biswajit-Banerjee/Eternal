{
 "cells": [
  {
   "cell_type": "code",
   "execution_count": 1,
   "metadata": {},
   "outputs": [],
   "source": [
    "import torch\n",
    "import torch.nn as nn\n",
    "import torch.optim as optim\n",
    "from torch.utils.data import DataLoader, random_split\n",
    "\n",
    "from src.utils import inference, visualize_predictions\n",
    "from src.data import RNADataset\n",
    "from src.checkpoint import load_checkpoint\n",
    "device = torch.device('cuda' if torch.cuda.is_available() else 'cpu')"
   ]
  },
  {
   "cell_type": "code",
   "execution_count": 2,
   "metadata": {},
   "outputs": [
    {
     "name": "stderr",
     "output_type": "stream",
     "text": [
      "/home/sumon/workspace/git_repos/Eternal/src/checkpoint.py:44: FutureWarning: You are using `torch.load` with `weights_only=False` (the current default value), which uses the default pickle module implicitly. It is possible to construct malicious pickle data which will execute arbitrary code during unpickling (See https://github.com/pytorch/pytorch/blob/main/SECURITY.md#untrusted-models for more details). In a future release, the default value for `weights_only` will be flipped to `True`. This limits the functions that could be executed during unpickling. Arbitrary objects will no longer be allowed to be loaded via this mode unless they are explicitly allowlisted by the user via `torch.serialization.add_safe_globals`. We recommend you start setting `weights_only=True` for any use case where you don't have full control of the loaded file. Please open an issue on GitHub for any issues related to this experimental feature.\n",
      "  checkpoint = torch.load(path, map_location=device)\n"
     ]
    },
    {
     "name": "stdout",
     "output_type": "stream",
     "text": [
      "Loaded checkpoint from checkpoints/best.pt\n",
      "Epoch: 0\n"
     ]
    }
   ],
   "source": [
    "model, optimizer, epoch = load_checkpoint('checkpoints/best.pt')\n",
    "print(f\"Epoch: {epoch}\")"
   ]
  },
  {
   "cell_type": "code",
   "execution_count": 5,
   "metadata": {},
   "outputs": [],
   "source": [
    "test_dataset = RNADataset.load(\"data/test_dataset_small.pkl\")\n",
    "test_loader = DataLoader(\n",
    "    test_dataset,\n",
    "    batch_size=1,\n",
    "    shuffle=False,\n",
    ")"
   ]
  },
  {
   "cell_type": "code",
   "execution_count": 6,
   "metadata": {},
   "outputs": [
    {
     "data": {
      "text/plain": [
       "187"
      ]
     },
     "execution_count": 6,
     "metadata": {},
     "output_type": "execute_result"
    }
   ],
   "source": [
    "len(test_dataset)"
   ]
  },
  {
   "cell_type": "code",
   "execution_count": 7,
   "metadata": {},
   "outputs": [
    {
     "name": "stdout",
     "output_type": "stream",
     "text": [
      "Running inference...\n"
     ]
    },
    {
     "name": "stderr",
     "output_type": "stream",
     "text": [
      "  0%|          | 0/187 [00:00<?, ?it/s]/home/sumon/.local/lib/python3.10/site-packages/torch/_dynamo/eval_frame.py:632: UserWarning: torch.utils.checkpoint: the use_reentrant parameter should be passed explicitly. In version 2.5 we will raise an exception if use_reentrant is not passed. use_reentrant=False is recommended, but if you need to preserve the current default behavior, you can pass use_reentrant=True. Refer to docs for more details on the differences between the two variants.\n",
      "  return fn(*args, **kwargs)\n",
      "/home/sumon/.local/lib/python3.10/site-packages/torch/utils/checkpoint.py:87: UserWarning: None of the inputs have requires_grad=True. Gradients will be None\n",
      "  warnings.warn(\n",
      "100%|██████████| 187/187 [00:46<00:00,  4.02it/s]"
     ]
    },
    {
     "name": "stdout",
     "output_type": "stream",
     "text": [
      "\n",
      "Overall Metrics:\n",
      "Accuracy: 0.5273\n",
      "Precision: 0.5530\n",
      "Recall: 0.5273\n",
      "F1 Score: 0.4809\n",
      "\n",
      "Per-Class Metrics:\n",
      "\n",
      "Class .:\n",
      "Precision: 0.5031\n",
      "Recall: 0.8834\n",
      "F1 Score: 0.6411\n",
      "Support: 24624\n",
      "\n",
      "Class (:\n",
      "Precision: 0.6060\n",
      "Recall: 0.2614\n",
      "F1 Score: 0.3653\n",
      "Support: 16074\n",
      "\n",
      "Class ):\n",
      "Precision: 0.0000\n",
      "Recall: 0.0000\n",
      "F1 Score: 0.0000\n",
      "Support: 2\n"
     ]
    },
    {
     "name": "stderr",
     "output_type": "stream",
     "text": [
      "\n",
      "/home/sumon/.local/lib/python3.10/site-packages/sklearn/metrics/_classification.py:1531: UndefinedMetricWarning: Precision is ill-defined and being set to 0.0 in labels with no predicted samples. Use `zero_division` parameter to control this behavior.\n",
      "  _warn_prf(average, modifier, f\"{metric.capitalize()} is\", len(result))\n",
      "/home/sumon/.local/lib/python3.10/site-packages/sklearn/metrics/_classification.py:1531: UndefinedMetricWarning: Precision is ill-defined and being set to 0.0 in labels with no predicted samples. Use `zero_division` parameter to control this behavior.\n",
      "  _warn_prf(average, modifier, f\"{metric.capitalize()} is\", len(result))\n"
     ]
    },
    {
     "data": {
      "text/plain": [
       "{'accuracy': 0.5272635358923404,\n",
       " 'precision': 0.5529603421018916,\n",
       " 'recall': 0.5272635358923404,\n",
       " 'f1': 0.4809055616878805,\n",
       " 'per_class': {'.': {'precision': 0.5030758556891767,\n",
       "   'recall': 0.883406432748538,\n",
       "   'f1': 0.6410762701874337,\n",
       "   'support': 24624},\n",
       "  '(': {'precision': 0.6059994231323911,\n",
       "   'recall': 0.2614159512255817,\n",
       "   'f1': 0.3652642559109875,\n",
       "   'support': 16074},\n",
       "  ')': {'precision': 0.0, 'recall': 0.0, 'f1': 0.0, 'support': 2}}}"
      ]
     },
     "execution_count": 7,
     "metadata": {},
     "output_type": "execute_result"
    }
   ],
   "source": [
    "inference(model, test_loader, device)"
   ]
  },
  {
   "cell_type": "code",
   "execution_count": 9,
   "metadata": {},
   "outputs": [
    {
     "name": "stdout",
     "output_type": "stream",
     "text": [
      "\n",
      "Visualizing 1 example predictions:\n",
      "\n",
      "Example   1:\n",
      "Sequence:  GCCGGGAUAGCUCAGUUGGUAGAGCAGGGGACUGAAAAUCCUCGUGUCACCAGUCCAAA\n",
      "Predicted: .........((((........)))).((((.........))))................\n",
      "Ground Tr: .........((((........))))((((((.......))))))...............\n",
      "\n",
      "Example   2:\n",
      "Sequence:  GAGUAAGGCAGCCGCUGGAGCAGUUUGUUUAAAGCUGAUGUCAGAGGAAAGUCCGGACUUYAUAAGAAAAGAUGCUGGAGAAAUUCCAGGGGCCGAGAGGCUACGGAAAGUGCAACAGAAAACACUCCGCUAUAAAUUGCAAAAUUUAUAGACAGGCUGAAAAAUCCUACUUUAAGAGUAGGAGCUGCUGGGGAGACCCGGUAGACCUGUAAACCCCAUCUGAAGCAAGAGAAAAAGUCUUUUGUCUCUGCAAAGAACCUCUCUAAGGGAAGGUUCAGACUUUUUCAUAAUCGCUUGAGAAGUAUAGUAAUGUGCUUCCUAGAUGAAUGGCUGCCCGCAGGCAAGAAUUUUUAUUCGCGCUUGUUGACAGAAYCCGGCUUACUCGCUC\n",
      "Predicted: .....................................................................................................................................................................................................................))))........).................................................................................................................................).).).......................)....\n",
      "Ground Tr: .((((([[[[[[[.(((((((((...........))))).))))....(((.(((((((((...[[[[.((((((((((.....)))))(((((....)))).)((...(((((............(((((((((((......)))))))))..))........((((((.......))))))(((((((((....)))))))).).)))..)))))))))))))...((.((((((.........................(((((.]]]].))))).)))))).....))......((((((((....))))))))..........]]]]]]].....................................)))))))).).)))).\n",
      "\n",
      "Example   3:\n",
      "Sequence:  GUCAACGACCCGUCGCUAAAAGCGAGGGCUCCUUAUAGCCCAAGUUGACCAGCCUAAGUGCUACGCGCACUACGUUAACGGCAAGUGUUAAAAAUCCUACCUUGGGAUGCGUGCCAGUUCCAAGCUCUAGAA\n",
      "Predicted: ..(..(...................................................................................................)......))).................\n",
      "Ground Tr: .((((((.(((.(((.......))))))..............))))))........(((((.....)))))......................(((..(.((((((((........))))))))...).)))\n",
      "\n",
      "Example   4:\n",
      "Sequence:  CUUAAGAGCCAAUGAUGUUUUUAUUCAAAAUGUCUGAACCUGUCUGAAGCAUCCCAGUGAUGCAACUUCUGUGUGAUACUGAGGCUUUUUUGCCA\n",
      "Predicted: .............................................................................................).\n",
      "Ground Tr: ...(((((((........................................................................)))))))......\n",
      "\n",
      "Example   5:\n",
      "Sequence:  CCCCAAGUGGCGGAAUAGGUAGACGCAUUGGACUUAAAAUCCAACGGGCUUAAUAUCCUGUGCCGGUUCAAGUCCGGCCUUGGGGACCA\n",
      "Predicted: ..((..............................................................................)......\n",
      "Ground Tr: (((((((..(((...........))).(((((.......))))).................(((((.......))))))))))))....\n",
      "\n",
      "Example   6:\n",
      "Sequence:  GCGCCGAUGGUUUAGUGGUAAAAUCCAUCGUUGCCAUCGAUGGGCCCCCGGUUCGAUUCCGGGUCGGCGCA\n",
      "Predicted: ((((((...((((...........)(((((........).)))......((...........)))))))).\n",
      "Ground Tr: (((((((..((((.......))))((((((.......))))))...(((((.......)))))))))))).\n",
      "\n",
      "Example   7:\n",
      "Sequence:  GCGGGCGUAGUUCAAUGGUAGAACGAGAGCUUCCCAAGCUCUAUACGAGGGUUCGAUUCCCUUCGCCCGCUCCA\n",
      "Predicted: (((((((..((((.......)))))(((((.......)))))))...((((........)))))))))))))..\n",
      "Ground Tr: (((((((..((((.......)))).(((((.......)))))....(((((.......))))))))))))....\n",
      "\n",
      "Example   8:\n",
      "Sequence:  UGAGGACCGAUAAGAGACCAACUGCAGACGGAAACUUAAGAGAAAUCAAAGGAAGAGCCCUUAAGGCGAAAGCGUUUUAAAGAGUAUACGAUAAAAAAUAGCUUUAAAACCCACCAAGGAUGAAGAGAUAGCAUCCAAGGAGCUAAAGAAAAUCUCACUUUAGACACUUAAGGAACUCGAACUAAGAGA\n",
      "Predicted: .....................................................................................................................................................................................).......\n",
      "Ground Tr: .(((......(((((..................)))))......)))............((((((........(((((((((...................))))))))).......(((((.........)))))......((((((.........))))))...)))))).................\n",
      "\n",
      "Example   9:\n",
      "Sequence:  UGCCUGACGACCAUAGAGUAUUGGAACCACCUGAUCCCAUGCCGAACUCAGAAGUGAAACAGUACAUCGCCGAUGGUAGUGUGGGGCUUCCCCAUGCGAGAGUAGGUCAUCGUCAGGCU\n",
      "Predicted: ..((.(.(................................................................................................)).)..)).).))).\n",
      "Ground Tr: ((((((((((.....((((((((....(((((((.............))))..)))...)))))).)).(((((((..((((((((...))))))))..)))))))...))))))))))\n",
      "\n",
      "Example  10:\n",
      "Sequence:  CGGUUGCUCAGUAGGCAGUGUAGAUCCUGUGUAGCAAUCAGCAGCUACAUCUGGCUACUGGGUCUCCG\n",
      "Predicted: ...............................................................)....\n",
      "Ground Tr: .....((((((((.(((((((((...((((..........)))))))))).))).)))))))).....\n",
      "\n",
      "Example  11:\n",
      "Sequence:  CGGGGUAUAGCGCAGUCUGGUAGCGCGCCUGCUUUGGGAGCAGGAUGUCGGGAGUUCGAAUCUCUCUACCCCGACCA\n",
      "Predicted: (((((((..((((.........))))(((((......).))))))....(((((.......))))))))))).....\n",
      "Ground Tr: (((((((..((((.........))))((((((.......))))))....(((((.......))))))))))))....\n",
      "\n",
      "Example  12:\n",
      "Sequence:  GUGGGCGUAGCCAAGUGGUAAGGCAUUGGAUUGUGACUCCAAUAUUCGCGGGUUCAAGCCCCGUCGUUCACC\n",
      "Predicted: (((((((..(((.........))))(((((........))))))...(((((........))))))))))))\n",
      "Ground Tr: (((((((..((((.......))))((((((.......))))))....(((((.......)))))))))))).\n",
      "\n",
      "Example  13:\n",
      "Sequence:  GCCAACGACCAUACCACGCUGAAUACAUCGGUUCUCGUCCGAUCACCGAAAUUAAGCAGCGUCGGGCGCGGUUAGUACUUAGAUGGGGGACCGCUUGGGAACACCGCGUGUUGUUGGCCUCGUCCACAACUUUUU\n",
      "Predicted: ..(..(..........(.(......................................................................................).)....)..))..................\n",
      "Ground Tr: (((((((((....((((((((....(((((((............))))..)))...)))))).)).(((((......(((((.(((....)))))))).....))))).))))))))).................\n",
      "\n",
      "Example  14:\n",
      "Sequence:  GUGCCUCAAACUAAUGAGUAAGGAAAACCAAGAAGCCUUGCUAAUCGCUUGGCAGUUUGGCUUCUAGGCAGGGGGGCGUCCUGCGUCCCCUGAAGCUAAAUUUUUGCAAGGGCACAGGUCGUCCCCUCCUUCCCCGAGUGGGAGGCGUCCGGCCGAGCGAACCGGCGCCUACUUUGCGUCCGGCUAGCGAGGCUCAGGGUGCCACCCA\n",
      "Predicted: ................................................................................................................................................................................................).).......).))..\n",
      "Ground Tr: ...(((((..........))))).........((((((((.......))))))))(((((.............................)))))............................................((((((((((((..((.(((((...(((((.......)))))....))))).))....))))))))))))\n",
      "\n",
      "Example  15:\n",
      "Sequence:  GUCAGGAUAGCUCAG\n",
      "Predicted: ..........(.(..\n",
      "Ground Tr: ...............\n",
      "\n",
      "Example  16:\n",
      "Sequence:  AAUCGUCCGAUCUACCAUCUGAUAGACCGCAGUACGACUCAAGCCAUAGGACGGGGACUUGAG\n",
      "Predicted: ...............................................................\n",
      "Ground Tr: ...[[[[[.(((((........)))))..........((((((((...]]]]].)).))))))\n"
     ]
    }
   ],
   "source": [
    "visualize_predictions(model, test_loader, device, total_examples=16)"
   ]
  },
  {
   "cell_type": "code",
   "execution_count": null,
   "metadata": {},
   "outputs": [],
   "source": []
  }
 ],
 "metadata": {
  "kernelspec": {
   "display_name": "Python 3",
   "language": "python",
   "name": "python3"
  },
  "language_info": {
   "codemirror_mode": {
    "name": "ipython",
    "version": 3
   },
   "file_extension": ".py",
   "mimetype": "text/x-python",
   "name": "python",
   "nbconvert_exporter": "python",
   "pygments_lexer": "ipython3",
   "version": "3.10.15"
  }
 },
 "nbformat": 4,
 "nbformat_minor": 2
}
