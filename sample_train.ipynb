{
 "cells": [
  {
   "cell_type": "code",
   "execution_count": 1,
   "metadata": {},
   "outputs": [],
   "source": [
    "import torch\n",
    "import torch.nn as nn\n",
    "import torch.optim as optim\n",
    "from torch.utils.data import DataLoader, random_split\n",
    "from pathlib import Path\n",
    "import gc\n",
    "import logging\n",
    "from tqdm import tqdm\n",
    "import math \n",
    "# local imports\n",
    "from src.data import RNADataset\n",
    "from src.model import EnhancedRNAPredictor\n",
    "from src.train import train_epoch, validate_epoch, train_model, create_padding_mask\n",
    "from src.utils import inference, visualize_predictions\n",
    "from src.objective import create_criterion\n",
    "from src.checkpoint import save_checkpoint, load_checkpoint\n",
    "import warnings\n",
    "warnings.filterwarnings('ignore')\n",
    "\n",
    "device = torch.device('cuda' if torch.cuda.is_available() else 'cpu')"
   ]
  },
  {
   "cell_type": "code",
   "execution_count": 2,
   "metadata": {},
   "outputs": [],
   "source": [
    "class RnaEncoder(nn.Module):\n",
    "    def __init__(self, input_size=5, hidden_size=64):\n",
    "        super().__init__()\n",
    "        self.in_layer = nn.Linear(input_size, hidden_size//2)\n",
    "        self.out_layer = nn.Linear(hidden_size//2, hidden_size)\n",
    "        self.activation = nn.ReLU()\n",
    "        \n",
    "    def forward(self, x):\n",
    "        out = self.activation(self.in_layer(x))\n",
    "        out = self.out_layer(out)\n",
    "        return out\n",
    "    \n",
    "class RnaDecoder(nn.Module):\n",
    "    def __init__(self, hidden_size=64, output_size=61):\n",
    "        super().__init__()\n",
    "        self.in_layer = nn.Linear(hidden_size, hidden_size//2)\n",
    "        self.out_layer = nn.Linear(hidden_size//2, output_size)\n",
    "        self.activation = nn.ReLU()\n",
    "        \n",
    "    def forward(self, x):\n",
    "        out = self.activation(self.in_layer(x))\n",
    "        out =  nn.Softmax()(self.out_layer(out))\n",
    "        return out\n",
    "    \n",
    "class SimpleRNAPredictor(nn.Module):\n",
    "    def __init__(self, input_size=5, hidden_size=64, out_size=61, num_hidden=6):\n",
    "        super().__init__()\n",
    "        self.encoder = RnaEncoder()\n",
    "        self.decoder = RnaDecoder()\n",
    "\n",
    "    def forward(self, x):\n",
    "        latent = self.encoder(x)\n",
    "        out    = self.decoder(latent)\n",
    "        return out"
   ]
  },
  {
   "cell_type": "code",
   "execution_count": 3,
   "metadata": {},
   "outputs": [],
   "source": [
    "class EfficientRnaEncoder(nn.Module):\n",
    "    def __init__(self, input_size=5, hidden_size=64, num_layers=2, dropout=0.1):\n",
    "        super().__init__()\n",
    "        \n",
    "        self.input_proj = nn.Linear(input_size, hidden_size)\n",
    "        self.layer_norm = nn.LayerNorm(hidden_size)\n",
    "        \n",
    "        self.layers = nn.ModuleList([\n",
    "            nn.Sequential(\n",
    "                nn.Linear(hidden_size, hidden_size),\n",
    "                nn.LayerNorm(hidden_size),\n",
    "                nn.ReLU(),\n",
    "                nn.Dropout(dropout)\n",
    "            ) for _ in range(num_layers)\n",
    "        ])\n",
    "        \n",
    "    def forward(self, x):\n",
    "        # Ensure input is float and requires grad\n",
    "        x = x.float()\n",
    "        x.requires_grad_(True)\n",
    "        \n",
    "        x = self.input_proj(x)\n",
    "        x = self.layer_norm(x)\n",
    "        \n",
    "        for layer in self.layers:\n",
    "            x = layer(x) + x  # Add residual connection\n",
    "        return x\n",
    "\n",
    "class EfficientRnaDecoder(nn.Module):\n",
    "    def __init__(self, hidden_size=64, output_size=61, num_layers=2, dropout=0.1):\n",
    "        super().__init__()\n",
    "        \n",
    "        self.layers = nn.ModuleList()\n",
    "        current_size = hidden_size\n",
    "        \n",
    "        for i in range(num_layers):\n",
    "            next_size = output_size if i == num_layers-1 else current_size\n",
    "            self.layers.append(nn.Sequential(\n",
    "                nn.Linear(current_size, next_size),\n",
    "                nn.LayerNorm(next_size) if i < num_layers-1 else nn.Identity(),\n",
    "                nn.ReLU() if i < num_layers-1 else nn.Identity(),\n",
    "                nn.Dropout(dropout) if i < num_layers-1 else nn.Identity()\n",
    "            ))\n",
    "            current_size = next_size\n",
    "            \n",
    "    def forward(self, x):\n",
    "        for layer in self.layers:\n",
    "            x = layer(x)\n",
    "        return x  # Note: No softmax here, will be handled by loss function\n",
    "\n",
    "class RNAPredictor(nn.Module):\n",
    "    def __init__(self, input_size=5, hidden_size=64, output_size=61, num_layers=2, dropout=0.1):\n",
    "        super().__init__()\n",
    "        \n",
    "        self.encoder = EfficientRnaEncoder(\n",
    "            input_size=input_size,\n",
    "            hidden_size=hidden_size,\n",
    "            num_layers=num_layers,\n",
    "            dropout=dropout\n",
    "        )\n",
    "        \n",
    "        self.decoder = EfficientRnaDecoder(\n",
    "            hidden_size=hidden_size,\n",
    "            output_size=output_size,\n",
    "            num_layers=num_layers,\n",
    "            dropout=dropout\n",
    "        )\n",
    "        \n",
    "        # Initialize weights properly\n",
    "        self.apply(self._init_weights)\n",
    "        \n",
    "    def _init_weights(self, module):\n",
    "        if isinstance(module, nn.Linear):\n",
    "            nn.init.xavier_uniform_(module.weight)\n",
    "            if module.bias is not None:\n",
    "                nn.init.zeros_(module.bias)\n",
    "                \n",
    "    def forward(self, x):\n",
    "        # Ensure model is in training mode when needed\n",
    "        if self.training:\n",
    "            self.train()\n",
    "        \n",
    "        latent = self.encoder(x)\n",
    "        logits = self.decoder(latent)\n",
    "        return logits"
   ]
  },
  {
   "cell_type": "code",
   "execution_count": null,
   "metadata": {},
   "outputs": [],
   "source": []
  },
  {
   "cell_type": "code",
   "execution_count": 4,
   "metadata": {},
   "outputs": [],
   "source": [
    "# Configuration\n",
    "\n",
    "batch_size = 28\n",
    "num_epochs = 3\n",
    "learning_rate = 0.003\n",
    "model_save_dir = Path('models')"
   ]
  },
  {
   "cell_type": "code",
   "execution_count": 5,
   "metadata": {},
   "outputs": [],
   "source": [
    "# Create model save directory\n",
    "model_save_dir.mkdir(parents=True, exist_ok=True)\n",
    "\n",
    "# Load dataset\n",
    "train_dataset = RNADataset.load(\"data/train_dataset.pkl\")\n",
    "val_dataset   = RNADataset.load(\"data/val_dataset.pkl\")\n",
    "test_dataset  = RNADataset.load(\"data/test_dataset.pkl\")\n",
    "\n",
    "struct_to_idx = train_dataset.struct_to_idx"
   ]
  },
  {
   "cell_type": "code",
   "execution_count": 6,
   "metadata": {},
   "outputs": [],
   "source": [
    "# Create data loaders\n",
    "train_loader = DataLoader(\n",
    "    train_dataset,\n",
    "    batch_size=batch_size,\n",
    "    shuffle=True,\n",
    "    # collate_fn=lambda b: collate_fn(b, device)\n",
    ")\n",
    "\n",
    "val_loader = DataLoader(\n",
    "    val_dataset,\n",
    "    batch_size=batch_size,\n",
    "    shuffle=False,\n",
    "    # collate_fn=lambda b: collate_fn(b, device)\n",
    ")"
   ]
  },
  {
   "cell_type": "code",
   "execution_count": 7,
   "metadata": {},
   "outputs": [],
   "source": [
    "# model = RNATransformer(\n",
    "#     num_nucleotides=5,  # A, U, G, C, N\n",
    "#     num_structure_labels=60,  \n",
    "#     d_model=128\n",
    "# ).to(device)\n",
    "# predictor = RNAStructurePredictor(model)\n",
    "\n",
    "\n",
    "# model = SimpleRNAPredictor(input_size=5).to(device)"
   ]
  },
  {
   "cell_type": "code",
   "execution_count": 8,
   "metadata": {},
   "outputs": [],
   "source": [
    "model = EnhancedRNAPredictor(\n",
    "    input_size=5,\n",
    "    hidden_size=32,\n",
    "    output_size=61,\n",
    "    num_layers=3,\n",
    "    num_heads=8,\n",
    "    dropout=0.1\n",
    "    \n",
    "    ).to(device)\n",
    "\n",
    "\n",
    "# Use mixed precision criterion\n",
    "criterion = nn.CrossEntropyLoss(ignore_index=-100)\n",
    "# criterion = create_criterion(struct_to_idx=struct_to_idx, ignore_index=-100, bracket_weight=0.5)\n",
    "optimizer = optim.Adam(model.parameters(), lr=learning_rate)\n",
    "scheduler = optim.lr_scheduler.ReduceLROnPlateau(\n",
    "    optimizer, mode='min', factor=0.5, patience=5, verbose=True\n",
    ")"
   ]
  },
  {
   "cell_type": "code",
   "execution_count": null,
   "metadata": {},
   "outputs": [
    {
     "name": "stderr",
     "output_type": "stream",
     "text": [
      "Training: 100%|██████████| 3289/3289 [9:03:54<00:00,  9.92s/it, loss=0.9554, avg_loss=0.9888]  \n"
     ]
    },
    {
     "name": "stdout",
     "output_type": "stream",
     "text": [
      "Epoch 1 - Training Loss: 0.9888\n",
      "Saved checkpoint to checkpoints/checkpoint.pt\n",
      "Saved checkpoint to checkpoints/best.pt\n"
     ]
    },
    {
     "name": "stderr",
     "output_type": "stream",
     "text": [
      "Training:  17%|█▋        | 570/3289 [1:34:43<7:29:43,  9.92s/it, loss=0.9437, avg_loss=0.9494] "
     ]
    }
   ],
   "source": [
    "best_loss = float('inf')\n",
    "validate_every = 10\n",
    "for epoch in range(num_epochs):\n",
    "    # Clear cache before each epoch\n",
    "    gc.collect()\n",
    "    torch.cuda.empty_cache()\n",
    "    \n",
    "    # Train\n",
    "    train_loss = train_epoch(\n",
    "        model,\n",
    "        train_loader, \n",
    "        criterion, \n",
    "        optimizer,\n",
    "        device=device\n",
    "    )\n",
    "    print(f'Epoch {epoch+1} - Training Loss: {train_loss:.4f}')\n",
    "    \n",
    "    if (epoch + 1) % validate_every == 0:\n",
    "        val_loss, metrics = validate_epoch(model, val_loader, criterion, device=device)\n",
    "        # print(20*\"=\" + \" : Validation : \" + 20*\"=\")\n",
    "        print(f'Validation Loss: {val_loss:.4f}')\n",
    "        # visualize_predictions(model, val_loader, device, total_examples=3)\n",
    "        # print(20*\"=\" + \" : Validation : \" + 20*\"=\")\n",
    "    \n",
    "    # Update learning rate\n",
    "    scheduler.step(train_loss)\n",
    "    save_checkpoint(model, optimizer, epoch)\n",
    "    \n",
    "    # save model \n",
    "    if best_loss > train_loss:\n",
    "        best_loss = train_loss\n",
    "        save_checkpoint(model, optimizer, epoch, 'checkpoints/best.pt')\n",
    "    "
   ]
  },
  {
   "cell_type": "code",
   "execution_count": null,
   "metadata": {},
   "outputs": [
    {
     "name": "stdout",
     "output_type": "stream",
     "text": [
      "Running inference...\n"
     ]
    },
    {
     "name": "stderr",
     "output_type": "stream",
     "text": [
      "100%|██████████| 183/183 [04:46<00:00,  1.56s/it]\n"
     ]
    },
    {
     "name": "stdout",
     "output_type": "stream",
     "text": [
      "\n",
      "Overall Metrics:\n",
      "Accuracy: 0.4995\n",
      "Precision: 0.5147\n",
      "Recall: 0.4995\n",
      "F1 Score: 0.4933\n",
      "\n",
      "Per-Class Metrics:\n",
      "\n",
      "Class .:\n",
      "Precision: 0.6110\n",
      "Recall: 0.5519\n",
      "F1 Score: 0.5799\n",
      "Support: 712513\n",
      "\n",
      "Class (:\n",
      "Precision: 0.4959\n",
      "Recall: 0.3068\n",
      "F1 Score: 0.3790\n",
      "Support: 452842\n",
      "\n",
      "Class ):\n",
      "Precision: 0.0000\n",
      "Recall: 0.0000\n",
      "F1 Score: 0.0000\n",
      "Support: 19\n"
     ]
    },
    {
     "data": {
      "text/plain": [
       "{'accuracy': 0.4994855787621452,\n",
       " 'precision': 0.5146972939378416,\n",
       " 'recall': 0.4994855787621452,\n",
       " 'f1': 0.49329954855007085,\n",
       " 'per_class': {'.': {'precision': 0.6109866411442813,\n",
       "   'recall': 0.5519085265812694,\n",
       "   'f1': 0.5799469225318203,\n",
       "   'support': 712513},\n",
       "  '(': {'precision': 0.4958522516348268,\n",
       "   'recall': 0.3067604153325001,\n",
       "   'f1': 0.37903175196522754,\n",
       "   'support': 452842},\n",
       "  ')': {'precision': 0.0, 'recall': 0.0, 'f1': 0.0, 'support': 19}}}"
      ]
     },
     "execution_count": 13,
     "metadata": {},
     "output_type": "execute_result"
    }
   ],
   "source": [
    "\n",
    "inference(model, val_loader, device)"
   ]
  },
  {
   "cell_type": "code",
   "execution_count": null,
   "metadata": {},
   "outputs": [
    {
     "name": "stdout",
     "output_type": "stream",
     "text": [
      "\n",
      "Visualizing 1 example predictions:\n",
      "\n",
      "Example   1:\n",
      "Sequence:  GGGAUUGUAGUUCAAUUGGUCAGAGCACCGCCCUGUCAAGGCGGAAGCUGCGGGUUCGAGCCCCGUCAGUCCCG\n",
      "Predicted: (((((((..((((.........))))((((((.......))))))...((((((......))))))))))))).\n",
      "Ground Tr: (((((((..((((.........))))((((((.......))))))....(((((.......)))))))))))).\n",
      "\n",
      "Example   2:\n",
      "Sequence:  UUAAAACAGCUCUGGGGUUGCACCCACCCCAGAGGCCCACGUGGCGGCUAGUACUCCGGUAUUGCGGUACCCUUGUACGCCUGUUUUAUAC\n",
      "Predicted: ....(((.((.(.((((((((...(.((((...........................))....)))....)).))).)))))).......)\n",
      "Ground Tr: .(((((((.(((((((((.......)))))))))(((.....))).((..((((...((((......))))...)))))).)))))))...\n",
      "\n",
      "Example   3:\n",
      "Sequence:  GGGGCUGAUUCUGGAUUCGACGGGAUUUGCGAAACCCAAGGUGCAUGCCGAGGGGCGGUUGGCCUCGUAAAAAGCCGCAAAAAAAUAGUCGCAAACGACGAAACCUACGCUUUAGCAGCUUAAUAACCUGCUUAGAGCCCUCUCUCCCUAGCCUCCGCUCUUAGGACGGGGAUCAAGAGAGGUCAAACCCAAAAGAGAUCGCGCGGAUGCCCUGCCUGGGGUUGAAGCGUUAAAACGAAUCAGGCUAGUCUGGUAGUGGCGUGUCCGUCCGCAGGUGCCAGGCGAAUGUAAAGACUGACUAAGCAUGUAGUACCGAGGAUGUAGGAAUUUCGGACGCGGGUUCAACUCCCGCCAGCUCCACCA\n",
      "Predicted: ..(((((...((((...((.((((.((((((.....(.........((((.(.........................(.........(.(((...........(.....(....((.((.......((.(......)..........................))..))))..)....)......................).).............))).......).......)....).............................................................................................)..))........)))))).)).)).)).\n",
      "Ground Tr: (((((((.............((((((((.....(.((..((((((((([[[[[.((((((..]]]]].....))))))..............................((((((((((.........)))).))))))(((((((((((..(((...[[[[[)))..))))....)))))))..........]]]]]....(((....((((.[[[[[))))....)))...........]]]]]..((((((((.(.(((.[[[.[[[))).).)))))))).........]]].]]]...)))))...))))..)).)....))))))))...(((((.......))))))))))))....\n",
      "\n",
      "Example   4:\n",
      "Sequence:  GGCGGAUGUAGCCAAGUGGAUCAAGGCAGUGGAUUGUGAAUCCACCAUGCGCGGGUUCAAUUCCCGUCGUUCGCC\n",
      "Predicted: (((((((...(((........))))(((((((.....).))))))...(((((((......)))))))))))...\n",
      "Ground Tr: .(((((((..((((.........))))((((((.......))))))....(((((.......)))))))))))).\n",
      "\n",
      "Example   5:\n",
      "Sequence:  AAGGUUCAAAGCGCUGCCUUAGGCAGCACCCCAGAUGACCAGAGCCUUCAAGGUCAUGCCGCUAACCCGGUGGUUCAUCCCAAAGUGCGAUUCGCGCCCGGAGGCUCGCACGGUCAUUCGCCAGAAUGAUGGACGC\n",
      "Predicted: ..(((((...((((((((((.(((.((.(((...........................))..........................................))).))).)))))...)))).)...)..))..).\n",
      "Ground Tr: ............((((((...)))))).......((((((...........)))))).((((.....))))..................................(((....((((((((..))))))))...)))\n"
     ]
    }
   ],
   "source": [
    "visualize_predictions(model, val_loader, device, num_examples=1)"
   ]
  },
  {
   "cell_type": "code",
   "execution_count": null,
   "metadata": {},
   "outputs": [],
   "source": []
  }
 ],
 "metadata": {
  "kernelspec": {
   "display_name": "Python 3",
   "language": "python",
   "name": "python3"
  },
  "language_info": {
   "codemirror_mode": {
    "name": "ipython",
    "version": 3
   },
   "file_extension": ".py",
   "mimetype": "text/x-python",
   "name": "python",
   "nbconvert_exporter": "python",
   "pygments_lexer": "ipython3",
   "version": "3.10.15"
  }
 },
 "nbformat": 4,
 "nbformat_minor": 2
}
