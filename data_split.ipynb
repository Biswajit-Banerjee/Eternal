{
 "cells": [
  {
   "cell_type": "code",
   "execution_count": 1,
   "metadata": {},
   "outputs": [],
   "source": [
    "import os\n",
    "from src.data import RNADataset\n",
    "from random import shuffle\n"
   ]
  },
  {
   "cell_type": "code",
   "execution_count": 2,
   "metadata": {},
   "outputs": [],
   "source": [
    "def create_data_set(base_path, data_list):\n",
    "    sequences = []\n",
    "    dbns = []\n",
    "    for data_point in data_list:\n",
    "        path = os.path.join(base_path, data_point)\n",
    "        with open(path, 'r') as f:\n",
    "            all_lines = f.readlines()\n",
    "        sequences.append(all_lines[3].strip())\n",
    "        dbns.append(all_lines[4].strip())\n",
    "        \n",
    "    dataset = RNADataset(sequences, dbns)\n",
    "    return dataset"
   ]
  },
  {
   "cell_type": "code",
   "execution_count": 3,
   "metadata": {},
   "outputs": [],
   "source": [
    "data_path = \"dbnFiles\"\n",
    "all_data = os.listdir(data_path)\n",
    "shuffle(all_data)\n",
    "total_data_length = len(all_data)\n"
   ]
  },
  {
   "cell_type": "code",
   "execution_count": 4,
   "metadata": {},
   "outputs": [
    {
     "name": "stdout",
     "output_type": "stream",
     "text": [
      "92086 5116\n"
     ]
    }
   ],
   "source": [
    "# take 90% for training 5% for validation and 5% for testing\n",
    "train_size = int(total_data_length * 0.9)\n",
    "val_size   = int((total_data_length - train_size) / 2)\n",
    "\n",
    "print(train_size, val_size)"
   ]
  },
  {
   "cell_type": "code",
   "execution_count": 5,
   "metadata": {},
   "outputs": [
    {
     "name": "stdout",
     "output_type": "stream",
     "text": [
      "92086 5116 5116\n"
     ]
    }
   ],
   "source": [
    "train_data = all_data[:train_size]\n",
    "val_data = all_data[train_size:train_size+val_size]\n",
    "test_data = all_data[train_size+val_size:]\n",
    "\n",
    "print(len(train_data), len(val_data), len(test_data))"
   ]
  },
  {
   "cell_type": "code",
   "execution_count": 6,
   "metadata": {},
   "outputs": [
    {
     "name": "stdout",
     "output_type": "stream",
     "text": [
      "92086 5116 5116\n"
     ]
    }
   ],
   "source": [
    "train_ds = create_data_set(data_path, train_data)\n",
    "val_ds   = create_data_set(data_path, val_data)\n",
    "test_ds  = create_data_set(data_path, test_data)\n",
    "\n",
    "print(len(train_ds), len(val_ds), len(test_ds))"
   ]
  },
  {
   "cell_type": "code",
   "execution_count": null,
   "metadata": {},
   "outputs": [
    {
     "name": "stdout",
     "output_type": "stream",
     "text": [
      "Dataset saved to data/train_dataset.pickle\n"
     ]
    }
   ],
   "source": [
    "train_ds.save(\"data/train_dataset.pkl\", format=\"pickle\")"
   ]
  },
  {
   "cell_type": "code",
   "execution_count": 7,
   "metadata": {},
   "outputs": [
    {
     "name": "stdout",
     "output_type": "stream",
     "text": [
      "\n",
      "=== Basic Dataset Statistics ===\n",
      "+-------------------+----------+\n",
      "|      Metric       |  Value   |\n",
      "+-------------------+----------+\n",
      "|  Total Sequences  |  92086   |\n",
      "| Total Nucleotides | 29316904 |\n",
      "|  Average Length   |  318.36  |\n",
      "|    Min Length     |    1     |\n",
      "|    Max Length     |   4381   |\n",
      "|  Std Dev Length   |  503.75  |\n",
      "+-------------------+----------+\n",
      "\n",
      "=== Nucleotide Composition ===\n",
      "+------------+---------+-----------+\n",
      "| Nucleotide |  Count  | Frequency |\n",
      "+------------+---------+-----------+\n",
      "|     A      | 7226880 |  24.65%   |\n",
      "|     U      | 6276433 |  21.41%   |\n",
      "|     G      | 8912741 |  30.40%   |\n",
      "|     C      | 6830549 |  23.30%   |\n",
      "| GC Content |    -    |  53.70%   |\n",
      "+------------+---------+-----------+\n",
      "\n",
      "=== Structure Composition ===\n",
      "+---------+----------+-----------+\n",
      "| Element |  Count   | Frequency |\n",
      "+---------+----------+-----------+\n",
      "|    .    | 12814550 |  43.71%   |\n",
      "|    (    | 8111357  |  27.67%   |\n",
      "|    )    | 8111357  |  27.67%   |\n",
      "+---------+----------+-----------+\n",
      "\n",
      "=== Base Pair Statistics ===\n",
      "+------------------------+---------+\n",
      "|         Metric         |  Value  |\n",
      "+------------------------+---------+\n",
      "|    Total Base Pairs    | 8111357 |\n",
      "| Avg Pairs per Sequence |  88.08  |\n",
      "|   Base Pair Density    | 55.34%  |\n",
      "+------------------------+---------+\n",
      "\n",
      "=== Most Common Dinucleotides ===\n",
      "+--------------+---------+-----------+\n",
      "| Dinucleotide |  Count  | Frequency |\n",
      "+--------------+---------+-----------+\n",
      "|      GG      | 2764067 |   9.43%   |\n",
      "|      AG      | 2159229 |   7.37%   |\n",
      "|      GA      | 2106619 |   7.19%   |\n",
      "|      GC      | 2092143 |   7.14%   |\n",
      "|      AA      | 2049593 |   6.99%   |\n",
      "+--------------+---------+-----------+\n",
      "\n",
      "=== Nucleotide Pairing Statistics ===\n",
      "+------------+---------+--------+----------+\n",
      "| Nucleotide |  Total  | Paired | Unpaired |\n",
      "+------------+---------+--------+----------+\n",
      "|     A      | 7181829 | 33.2%  |  66.8%   |\n",
      "|     U      | 6230895 | 52.0%  |  48.0%   |\n",
      "|     G      | 8815995 | 66.5%  |  33.5%   |\n",
      "|     C      | 6738978 | 69.9%  |  30.1%   |\n",
      "+------------+---------+--------+----------+\n"
     ]
    }
   ],
   "source": [
    "train_ds.info()"
   ]
  },
  {
   "cell_type": "code",
   "execution_count": 8,
   "metadata": {},
   "outputs": [
    {
     "name": "stdout",
     "output_type": "stream",
     "text": [
      "\n",
      "=== Basic Dataset Statistics ===\n",
      "+-------------------+---------+\n",
      "|      Metric       |  Value  |\n",
      "+-------------------+---------+\n",
      "|  Total Sequences  |  5116   |\n",
      "| Total Nucleotides | 1673893 |\n",
      "|  Average Length   | 327.19  |\n",
      "|    Min Length     |    2    |\n",
      "|    Max Length     |  3716   |\n",
      "|  Std Dev Length   | 514.00  |\n",
      "+-------------------+---------+\n",
      "\n",
      "=== Nucleotide Composition ===\n",
      "+------------+--------+-----------+\n",
      "| Nucleotide | Count  | Frequency |\n",
      "+------------+--------+-----------+\n",
      "|     A      | 412119 |  24.62%   |\n",
      "|     U      | 358213 |  21.40%   |\n",
      "|     G      | 509221 |  30.42%   |\n",
      "|     C      | 389234 |  23.25%   |\n",
      "| GC Content |   -    |  53.67%   |\n",
      "+------------+--------+-----------+\n",
      "\n",
      "=== Structure Composition ===\n",
      "+---------+--------+-----------+\n",
      "| Element | Count  | Frequency |\n",
      "+---------+--------+-----------+\n",
      "|    .    | 729517 |  43.58%   |\n",
      "|    (    | 464192 |  27.73%   |\n",
      "|    )    | 464192 |  27.73%   |\n",
      "+---------+--------+-----------+\n",
      "\n",
      "=== Base Pair Statistics ===\n",
      "+------------------------+--------+\n",
      "|         Metric         | Value  |\n",
      "+------------------------+--------+\n",
      "|    Total Base Pairs    | 464192 |\n",
      "| Avg Pairs per Sequence | 90.73  |\n",
      "|   Base Pair Density    | 55.46% |\n",
      "+------------------------+--------+\n",
      "\n",
      "=== Most Common Dinucleotides ===\n",
      "+--------------+--------+-----------+\n",
      "| Dinucleotide | Count  | Frequency |\n",
      "+--------------+--------+-----------+\n",
      "|      GG      | 157808 |   9.43%   |\n",
      "|      AG      | 123258 |   7.36%   |\n",
      "|      GA      | 120433 |   7.19%   |\n",
      "|      GC      | 119195 |   7.12%   |\n",
      "|      AA      | 117140 |   7.00%   |\n",
      "+--------------+--------+-----------+\n",
      "\n",
      "=== Nucleotide Pairing Statistics ===\n",
      "+------------+--------+--------+----------+\n",
      "| Nucleotide | Total  | Paired | Unpaired |\n",
      "+------------+--------+--------+----------+\n",
      "|     A      | 409617 | 33.3%  |  66.7%   |\n",
      "|     U      | 355643 | 52.2%  |  47.8%   |\n",
      "|     G      | 503624 | 66.6%  |  33.4%   |\n",
      "|     C      | 383954 | 70.1%  |  29.9%   |\n",
      "+------------+--------+--------+----------+\n"
     ]
    }
   ],
   "source": [
    "val_ds.info()"
   ]
  }
 ],
 "metadata": {
  "kernelspec": {
   "display_name": "Python 3",
   "language": "python",
   "name": "python3"
  },
  "language_info": {
   "codemirror_mode": {
    "name": "ipython",
    "version": 3
   },
   "file_extension": ".py",
   "mimetype": "text/x-python",
   "name": "python",
   "nbconvert_exporter": "python",
   "pygments_lexer": "ipython3",
   "version": "3.10.15"
  }
 },
 "nbformat": 4,
 "nbformat_minor": 2
}
