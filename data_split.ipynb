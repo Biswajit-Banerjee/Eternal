{
 "cells": [
  {
   "cell_type": "code",
   "execution_count": 1,
   "metadata": {},
   "outputs": [],
   "source": [
    "import os\n",
    "from src.data import RNADataset\n",
    "from random import shuffle\n"
   ]
  },
  {
   "cell_type": "code",
   "execution_count": 2,
   "metadata": {},
   "outputs": [],
   "source": [
    "def create_data_set(base_path, data_list):\n",
    "    sequences = []\n",
    "    dbns = []\n",
    "    for data_point in data_list:\n",
    "        path = os.path.join(base_path, data_point)\n",
    "        with open(path, 'r') as f:\n",
    "            all_lines = f.readlines()\n",
    "        sequences.append(all_lines[3].strip())\n",
    "        dbns.append(all_lines[4].strip())\n",
    "        \n",
    "    dataset = RNADataset(sequences, dbns)\n",
    "    return dataset"
   ]
  },
  {
   "cell_type": "code",
   "execution_count": 3,
   "metadata": {},
   "outputs": [],
   "source": [
    "data_path = \"dbnFiles\"\n",
    "all_data = os.listdir(data_path)\n",
    "shuffle(all_data)\n",
    "total_data_length = len(all_data)\n"
   ]
  },
  {
   "cell_type": "code",
   "execution_count": 4,
   "metadata": {},
   "outputs": [
    {
     "name": "stdout",
     "output_type": "stream",
     "text": [
      "92086 5116\n"
     ]
    }
   ],
   "source": [
    "# take 90% for training 5% for validation and 5% for testing\n",
    "train_size = int(total_data_length * 0.9)\n",
    "val_size   = int((total_data_length - train_size) / 2)\n",
    "\n",
    "print(train_size, val_size)"
   ]
  },
  {
   "cell_type": "code",
   "execution_count": 5,
   "metadata": {},
   "outputs": [
    {
     "name": "stdout",
     "output_type": "stream",
     "text": [
      "92086 5116 5116\n"
     ]
    }
   ],
   "source": [
    "train_data = all_data[:train_size]\n",
    "val_data = all_data[train_size:train_size+val_size]\n",
    "test_data = all_data[train_size+val_size:]\n",
    "\n",
    "print(len(train_data), len(val_data), len(test_data))"
   ]
  },
  {
   "cell_type": "code",
   "execution_count": 6,
   "metadata": {},
   "outputs": [
    {
     "name": "stdout",
     "output_type": "stream",
     "text": [
      "92086 5116 5116\n"
     ]
    }
   ],
   "source": [
    "train_ds = create_data_set(data_path, train_data)\n",
    "val_ds   = create_data_set(data_path, val_data)\n",
    "test_ds  = create_data_set(data_path, test_data)\n",
    "\n",
    "print(len(train_ds), len(val_ds), len(test_ds))"
   ]
  },
  {
   "cell_type": "code",
   "execution_count": 7,
   "metadata": {},
   "outputs": [
    {
     "name": "stdout",
     "output_type": "stream",
     "text": [
      "\n",
      "=== Basic Dataset Statistics ===\n",
      "+-------------------+---------+\n",
      "|      Metric       |  Value  |\n",
      "+-------------------+---------+\n",
      "|  Total Sequences  |  5116   |\n",
      "| Total Nucleotides | 1593816 |\n",
      "|  Average Length   | 311.54  |\n",
      "|    Min Length     |    4    |\n",
      "|    Max Length     |  4381   |\n",
      "|  Std Dev Length   | 496.34  |\n",
      "+-------------------+---------+\n",
      "\n",
      "=== Nucleotide Composition ===\n",
      "+------------+--------+-----------+\n",
      "| Nucleotide | Count  | Frequency |\n",
      "+------------+--------+-----------+\n",
      "|     A      | 394498 |  24.75%   |\n",
      "|     U      | 342465 |  21.49%   |\n",
      "|     G      | 483487 |  30.34%   |\n",
      "|     C      | 370221 |  23.23%   |\n",
      "| GC Content |   -    |  53.56%   |\n",
      "+------------+--------+-----------+\n",
      "\n",
      "=== Structure Composition ===\n",
      "+---------+--------+-----------+\n",
      "| Element | Count  | Frequency |\n",
      "+---------+--------+-----------+\n",
      "|    .    | 697790 |  43.78%   |\n",
      "|    (    | 440119 |  27.61%   |\n",
      "|    )    | 440119 |  27.61%   |\n",
      "+---------+--------+-----------+\n",
      "\n",
      "=== Base Pair Statistics ===\n",
      "+------------------------+--------+\n",
      "|         Metric         | Value  |\n",
      "+------------------------+--------+\n",
      "|    Total Base Pairs    | 440119 |\n",
      "| Avg Pairs per Sequence | 86.03  |\n",
      "|   Base Pair Density    | 55.23% |\n",
      "+------------------------+--------+\n",
      "\n",
      "=== Most Common Dinucleotides ===\n",
      "+--------------+--------+-----------+\n",
      "| Dinucleotide | Count  | Frequency |\n",
      "+--------------+--------+-----------+\n",
      "|      GG      | 149715 |   9.39%   |\n",
      "|      AG      | 117661 |   7.38%   |\n",
      "|      GA      | 114837 |   7.21%   |\n",
      "|      GC      | 112799 |   7.08%   |\n",
      "|      AA      | 112039 |   7.03%   |\n",
      "+--------------+--------+-----------+\n",
      "\n",
      "=== Nucleotide Pairing Statistics ===\n",
      "+------------+--------+--------+----------+\n",
      "| Nucleotide | Total  | Paired | Unpaired |\n",
      "+------------+--------+--------+----------+\n",
      "|     A      | 391960 | 33.3%  |  66.7%   |\n",
      "|     U      | 339856 | 52.0%  |  48.0%   |\n",
      "|     G      | 478031 | 66.3%  |  33.7%   |\n",
      "|     C      | 365069 | 69.8%  |  30.2%   |\n",
      "+------------+--------+--------+----------+\n"
     ]
    }
   ],
   "source": [
    "val_ds.info()"
   ]
  },
  {
   "cell_type": "code",
   "execution_count": 8,
   "metadata": {},
   "outputs": [
    {
     "name": "stdout",
     "output_type": "stream",
     "text": [
      "Dataset saved to data/train_dataset.pkl\n",
      "Dataset saved to data/val_dataset.pkl\n",
      "Dataset saved to data/test_dataset.pkl\n"
     ]
    }
   ],
   "source": [
    "train_ds.save(\"data/train_dataset.pkl\", format=\"pickle\")\n",
    "val_ds.save(\"data/val_dataset.pkl\", format=\"pickle\")\n",
    "test_ds.save(\"data/test_dataset.pkl\", format=\"pickle\")"
   ]
  },
  {
   "cell_type": "code",
   "execution_count": null,
   "metadata": {},
   "outputs": [],
   "source": []
  }
 ],
 "metadata": {
  "kernelspec": {
   "display_name": "Python 3",
   "language": "python",
   "name": "python3"
  },
  "language_info": {
   "codemirror_mode": {
    "name": "ipython",
    "version": 3
   },
   "file_extension": ".py",
   "mimetype": "text/x-python",
   "name": "python",
   "nbconvert_exporter": "python",
   "pygments_lexer": "ipython3",
   "version": "3.10.15"
  }
 },
 "nbformat": 4,
 "nbformat_minor": 2
}
