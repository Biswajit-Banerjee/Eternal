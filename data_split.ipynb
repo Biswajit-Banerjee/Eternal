{
 "cells": [
  {
   "cell_type": "code",
   "execution_count": 16,
   "metadata": {},
   "outputs": [],
   "source": [
    "import os\n",
    "from src.data import RNADataset\n",
    "from random import shuffle\n",
    "\n",
    "from torch.utils.data import DataLoader, random_split\n"
   ]
  },
  {
   "cell_type": "code",
   "execution_count": 17,
   "metadata": {},
   "outputs": [],
   "source": [
    "def create_data_set(base_path, data_list):\n",
    "    sequences = []\n",
    "    dbns = []\n",
    "    for data_point in data_list:\n",
    "        path = os.path.join(base_path, data_point)\n",
    "        with open(path, 'r') as f:\n",
    "            all_lines = f.readlines()\n",
    "        sequences.append(all_lines[3].strip())\n",
    "        dbns.append(all_lines[4].strip())\n",
    "        \n",
    "    dataset = RNADataset(sequences, dbns)\n",
    "    return dataset"
   ]
  },
  {
   "cell_type": "code",
   "execution_count": 18,
   "metadata": {},
   "outputs": [],
   "source": [
    "data_path = \"dbnFiles\"\n",
    "all_data = os.listdir(data_path)\n",
    "shuffle(all_data)\n",
    "total_data_length = len(all_data)\n"
   ]
  },
  {
   "cell_type": "code",
   "execution_count": 41,
   "metadata": {},
   "outputs": [
    {
     "name": "stdout",
     "output_type": "stream",
     "text": [
      "100271 1860\n"
     ]
    }
   ],
   "source": [
    "# take 90% for training 5% for validation and 5% for testing\n",
    "train_size = int(total_data_length * 0.98)\n",
    "val_size   = int((total_data_length - train_size) // 1.1)\n",
    "\n",
    "print(train_size, val_size)"
   ]
  },
  {
   "cell_type": "code",
   "execution_count": 42,
   "metadata": {},
   "outputs": [
    {
     "name": "stdout",
     "output_type": "stream",
     "text": [
      "100271 1860 187\n"
     ]
    }
   ],
   "source": [
    "train_data = all_data[:train_size]\n",
    "val_data = all_data[train_size:train_size+val_size]\n",
    "test_data = all_data[train_size+val_size:]\n",
    "\n",
    "print(len(train_data), len(val_data), len(test_data))"
   ]
  },
  {
   "cell_type": "code",
   "execution_count": 43,
   "metadata": {},
   "outputs": [
    {
     "name": "stdout",
     "output_type": "stream",
     "text": [
      "100271 1860 187\n"
     ]
    }
   ],
   "source": [
    "train_ds = create_data_set(data_path, train_data)\n",
    "val_ds   = create_data_set(data_path, val_data)\n",
    "test_ds  = create_data_set(data_path, test_data)\n",
    "\n",
    "print(len(train_ds), len(val_ds), len(test_ds))"
   ]
  },
  {
   "cell_type": "code",
   "execution_count": 44,
   "metadata": {},
   "outputs": [
    {
     "name": "stdout",
     "output_type": "stream",
     "text": [
      "\n",
      "=== Basic Dataset Statistics ===\n",
      "+-------------------+--------+\n",
      "|      Metric       | Value  |\n",
      "+-------------------+--------+\n",
      "|  Total Sequences  |  187   |\n",
      "| Total Nucleotides | 57366  |\n",
      "|  Average Length   | 306.77 |\n",
      "|    Min Length     |   15   |\n",
      "|    Max Length     |  1723  |\n",
      "|  Std Dev Length   | 467.57 |\n",
      "+-------------------+--------+\n",
      "\n",
      "=== Nucleotide Composition ===\n",
      "+------------+-------+-----------+\n",
      "| Nucleotide | Count | Frequency |\n",
      "+------------+-------+-----------+\n",
      "|     A      | 13791 |  24.04%   |\n",
      "|     U      | 12403 |  21.62%   |\n",
      "|     G      | 17624 |  30.72%   |\n",
      "|     C      | 13489 |  23.51%   |\n",
      "| GC Content |   -   |  54.24%   |\n",
      "+------------+-------+-----------+\n",
      "\n",
      "=== Structure Composition ===\n",
      "+---------+-------+-----------+\n",
      "| Element | Count | Frequency |\n",
      "+---------+-------+-----------+\n",
      "|    .    | 24624 |  42.92%   |\n",
      "|    (    | 16074 |  28.02%   |\n",
      "|    )    | 16074 |  28.02%   |\n",
      "+---------+-------+-----------+\n",
      "\n",
      "=== Base Pair Statistics ===\n",
      "+------------------------+--------+\n",
      "|         Metric         | Value  |\n",
      "+------------------------+--------+\n",
      "|    Total Base Pairs    | 16074  |\n",
      "| Avg Pairs per Sequence | 85.96  |\n",
      "|   Base Pair Density    | 56.04% |\n",
      "+------------------------+--------+\n",
      "\n",
      "=== Most Common Dinucleotides ===\n",
      "+--------------+-------+-----------+\n",
      "| Dinucleotide | Count | Frequency |\n",
      "+--------------+-------+-----------+\n",
      "|      GG      | 5548  |   9.67%   |\n",
      "|      AG      | 4229  |   7.37%   |\n",
      "|      GC      | 4176  |   7.28%   |\n",
      "|      GA      | 4095  |   7.14%   |\n",
      "|      UG      | 3925  |   6.84%   |\n",
      "+--------------+-------+-----------+\n",
      "\n",
      "=== Nucleotide Pairing Statistics ===\n",
      "+------------+-------+--------+----------+\n",
      "| Nucleotide | Total | Paired | Unpaired |\n",
      "+------------+-------+--------+----------+\n",
      "|     A      | 13702 | 33.9%  |  66.1%   |\n",
      "|     U      | 12323 | 51.9%  |  48.1%   |\n",
      "|     G      | 17407 | 67.2%  |  32.8%   |\n",
      "|     C      | 13282 | 70.7%  |  29.3%   |\n",
      "+------------+-------+--------+----------+\n"
     ]
    }
   ],
   "source": [
    "test_ds.info()"
   ]
  },
  {
   "cell_type": "code",
   "execution_count": 45,
   "metadata": {},
   "outputs": [
    {
     "name": "stdout",
     "output_type": "stream",
     "text": [
      "Dataset saved to data/test_dataset_small.pkl\n"
     ]
    }
   ],
   "source": [
    "# train_ds.save(\"data/train_dataset.pkl\", format=\"pickle\")\n",
    "# val_ds.save(\"data/val_dataset.pkl\", format=\"pickle\")\n",
    "test_ds.save(\"data/test_dataset_small.pkl\", format=\"pickle\")"
   ]
  },
  {
   "cell_type": "code",
   "execution_count": 9,
   "metadata": {},
   "outputs": [
    {
     "data": {
      "text/plain": [
       "dict_keys(['sequence', 'structure', 'attention_mask', 'length', 'raw_sequence', 'raw_structure'])"
      ]
     },
     "execution_count": 9,
     "metadata": {},
     "output_type": "execute_result"
    }
   ],
   "source": [
    "res = val_ds[100]\n",
    "res.keys()"
   ]
  },
  {
   "cell_type": "code",
   "execution_count": 10,
   "metadata": {},
   "outputs": [
    {
     "data": {
      "text/plain": [
       "torch.Size([5000, 5])"
      ]
     },
     "execution_count": 10,
     "metadata": {},
     "output_type": "execute_result"
    }
   ],
   "source": [
    "res['sequence'].shape"
   ]
  },
  {
   "cell_type": "code",
   "execution_count": 11,
   "metadata": {},
   "outputs": [
    {
     "data": {
      "text/plain": [
       "torch.Size([5000])"
      ]
     },
     "execution_count": 11,
     "metadata": {},
     "output_type": "execute_result"
    }
   ],
   "source": [
    "res[\"structure\"].shape"
   ]
  },
  {
   "cell_type": "code",
   "execution_count": 15,
   "metadata": {},
   "outputs": [
    {
     "data": {
      "text/plain": [
       "{'.': 0,\n",
       " '(': 1,\n",
       " '>': 2,\n",
       " '{': 3,\n",
       " ']': 4,\n",
       " '[': 5,\n",
       " '}': 6,\n",
       " '<': 7,\n",
       " ')': 8,\n",
       " 'A': 9,\n",
       " 'a': 10,\n",
       " 'B': 11,\n",
       " 'b': 12,\n",
       " 'C': 13,\n",
       " 'c': 14,\n",
       " 'D': 15,\n",
       " 'd': 16,\n",
       " 'E': 17,\n",
       " 'e': 18,\n",
       " 'F': 19,\n",
       " 'f': 20,\n",
       " 'G': 21,\n",
       " 'g': 22,\n",
       " 'H': 23,\n",
       " 'h': 24,\n",
       " 'I': 25,\n",
       " 'i': 26,\n",
       " 'J': 27,\n",
       " 'j': 28,\n",
       " 'K': 29,\n",
       " 'k': 30,\n",
       " 'L': 31,\n",
       " 'l': 32,\n",
       " 'M': 33,\n",
       " 'm': 34,\n",
       " 'N': 35,\n",
       " 'n': 36,\n",
       " 'O': 37,\n",
       " 'o': 38,\n",
       " 'P': 39,\n",
       " 'p': 40,\n",
       " 'Q': 41,\n",
       " 'q': 42,\n",
       " 'R': 43,\n",
       " 'r': 44,\n",
       " 'S': 45,\n",
       " 's': 46,\n",
       " 'T': 47,\n",
       " 't': 48,\n",
       " 'U': 49,\n",
       " 'u': 50,\n",
       " 'V': 51,\n",
       " 'v': 52,\n",
       " 'W': 53,\n",
       " 'w': 54,\n",
       " 'X': 55,\n",
       " 'x': 56,\n",
       " 'Y': 57,\n",
       " 'y': 58,\n",
       " 'Z': 59,\n",
       " 'z': 60}"
      ]
     },
     "execution_count": 15,
     "metadata": {},
     "output_type": "execute_result"
    }
   ],
   "source": [
    "val_ds.struct_to_idx"
   ]
  },
  {
   "cell_type": "code",
   "execution_count": null,
   "metadata": {},
   "outputs": [],
   "source": []
  },
  {
   "cell_type": "code",
   "execution_count": null,
   "metadata": {},
   "outputs": [],
   "source": []
  }
 ],
 "metadata": {
  "kernelspec": {
   "display_name": "Python 3",
   "language": "python",
   "name": "python3"
  },
  "language_info": {
   "codemirror_mode": {
    "name": "ipython",
    "version": 3
   },
   "file_extension": ".py",
   "mimetype": "text/x-python",
   "name": "python",
   "nbconvert_exporter": "python",
   "pygments_lexer": "ipython3",
   "version": "3.10.15"
  }
 },
 "nbformat": 4,
 "nbformat_minor": 2
}
